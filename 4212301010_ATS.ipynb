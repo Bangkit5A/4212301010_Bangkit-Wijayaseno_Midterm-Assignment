{
 "cells": [
  {
   "cell_type": "markdown",
   "id": "a4e316b6-06ea-4cdf-9cf3-c9a6d252c358",
   "metadata": {},
   "source": [
    "# 4212301010_Bangkit Wijayaseno_Midterm Assignment"
   ]
  },
  {
   "cell_type": "markdown",
   "id": "ec7207a2-34b4-49ef-b6d5-b8b46c09ca2e",
   "metadata": {},
   "source": [
    "## 1. Adding Library for the program logic"
   ]
  },
  {
   "cell_type": "code",
   "execution_count": 1,
   "id": "78605811-ccd4-460f-8571-2eb1ba42faa4",
   "metadata": {},
   "outputs": [],
   "source": [
    "#1 Menambahkan Library yang akan kita butuhkan\n",
    "import numpy as np\n",
    "import pandas as pd\n",
    "from skimage.feature import hog\n",
    "from sklearn.svm import SVC\n",
    "from sklearn.model_selection import LeaveOneOut\n",
    "from sklearn.metrics import confusion_matrix, accuracy_score, precision_score, f1_score\n",
    "import matplotlib.pyplot as plt"
   ]
  },
  {
   "cell_type": "markdown",
   "id": "eceaca96-5ec8-4fb5-931a-a479ff405bca",
   "metadata": {},
   "source": [
    "## 2. Load Dataset"
   ]
  },
  {
   "cell_type": "code",
   "execution_count": 2,
   "id": "7cc80e3a-8abe-4b8f-811d-20100824cf88",
   "metadata": {},
   "outputs": [],
   "source": [
    "#2 Load dataset\n",
    "train_df = pd.read_csv(r\"D:\\Python seno\\emnist-letters-train.csv\\emnist-letters-train.csv\")\n",
    "\n",
    "# Pisahkan label & pixel\n",
    "# format df.iloc[baris, kolom]\n",
    "labels = train_df.iloc[:,0].values        # shape: (n_samples,)\n",
    "images = train_df.iloc[:,1:].values       # shape: (n_samples, 784)"
   ]
  },
  {
   "cell_type": "code",
   "execution_count": 3,
   "id": "fd663b36-ee67-4a23-9794-27ff8298c03b",
   "metadata": {},
   "outputs": [
    {
     "name": "stdout",
     "output_type": "stream",
     "text": [
      "Jumlah sample: 88799\n"
     ]
    }
   ],
   "source": [
    "print(\"Jumlah sample:\", labels.shape[0])"
   ]
  },
  {
   "cell_type": "code",
   "execution_count": 4,
   "id": "66c6117f-df19-4759-afaf-85bb6bcb275b",
   "metadata": {},
   "outputs": [
    {
     "name": "stdout",
     "output_type": "stream",
     "text": [
      "Dimensi pixel per sample: 784\n"
     ]
    }
   ],
   "source": [
    "print(\"Dimensi pixel per sample:\", images.shape[1])"
   ]
  },
  {
   "cell_type": "code",
   "execution_count": 5,
   "id": "89f3f88c-70e2-4807-97f7-132b413e2f52",
   "metadata": {},
   "outputs": [
    {
     "data": {
      "text/html": [
       "<div>\n",
       "<style scoped>\n",
       "    .dataframe tbody tr th:only-of-type {\n",
       "        vertical-align: middle;\n",
       "    }\n",
       "\n",
       "    .dataframe tbody tr th {\n",
       "        vertical-align: top;\n",
       "    }\n",
       "\n",
       "    .dataframe thead th {\n",
       "        text-align: right;\n",
       "    }\n",
       "</style>\n",
       "<table border=\"1\" class=\"dataframe\">\n",
       "  <thead>\n",
       "    <tr style=\"text-align: right;\">\n",
       "      <th></th>\n",
       "      <th>23</th>\n",
       "      <th>0</th>\n",
       "      <th>0.1</th>\n",
       "      <th>0.2</th>\n",
       "      <th>0.3</th>\n",
       "      <th>0.4</th>\n",
       "      <th>0.5</th>\n",
       "      <th>0.6</th>\n",
       "      <th>0.7</th>\n",
       "      <th>0.8</th>\n",
       "      <th>...</th>\n",
       "      <th>0.406</th>\n",
       "      <th>0.407</th>\n",
       "      <th>0.408</th>\n",
       "      <th>0.409</th>\n",
       "      <th>0.410</th>\n",
       "      <th>0.411</th>\n",
       "      <th>0.412</th>\n",
       "      <th>0.413</th>\n",
       "      <th>0.414</th>\n",
       "      <th>0.415</th>\n",
       "    </tr>\n",
       "  </thead>\n",
       "  <tbody>\n",
       "    <tr>\n",
       "      <th>0</th>\n",
       "      <td>7</td>\n",
       "      <td>0</td>\n",
       "      <td>0</td>\n",
       "      <td>0</td>\n",
       "      <td>0</td>\n",
       "      <td>0</td>\n",
       "      <td>0</td>\n",
       "      <td>0</td>\n",
       "      <td>0</td>\n",
       "      <td>0</td>\n",
       "      <td>...</td>\n",
       "      <td>0</td>\n",
       "      <td>0</td>\n",
       "      <td>0</td>\n",
       "      <td>0</td>\n",
       "      <td>0</td>\n",
       "      <td>0</td>\n",
       "      <td>0</td>\n",
       "      <td>0</td>\n",
       "      <td>0</td>\n",
       "      <td>0</td>\n",
       "    </tr>\n",
       "    <tr>\n",
       "      <th>1</th>\n",
       "      <td>16</td>\n",
       "      <td>0</td>\n",
       "      <td>0</td>\n",
       "      <td>0</td>\n",
       "      <td>0</td>\n",
       "      <td>0</td>\n",
       "      <td>0</td>\n",
       "      <td>0</td>\n",
       "      <td>0</td>\n",
       "      <td>0</td>\n",
       "      <td>...</td>\n",
       "      <td>0</td>\n",
       "      <td>0</td>\n",
       "      <td>0</td>\n",
       "      <td>0</td>\n",
       "      <td>0</td>\n",
       "      <td>0</td>\n",
       "      <td>0</td>\n",
       "      <td>0</td>\n",
       "      <td>0</td>\n",
       "      <td>0</td>\n",
       "    </tr>\n",
       "    <tr>\n",
       "      <th>2</th>\n",
       "      <td>15</td>\n",
       "      <td>0</td>\n",
       "      <td>0</td>\n",
       "      <td>0</td>\n",
       "      <td>0</td>\n",
       "      <td>0</td>\n",
       "      <td>0</td>\n",
       "      <td>0</td>\n",
       "      <td>0</td>\n",
       "      <td>0</td>\n",
       "      <td>...</td>\n",
       "      <td>0</td>\n",
       "      <td>0</td>\n",
       "      <td>0</td>\n",
       "      <td>0</td>\n",
       "      <td>0</td>\n",
       "      <td>0</td>\n",
       "      <td>0</td>\n",
       "      <td>0</td>\n",
       "      <td>0</td>\n",
       "      <td>0</td>\n",
       "    </tr>\n",
       "    <tr>\n",
       "      <th>3</th>\n",
       "      <td>23</td>\n",
       "      <td>0</td>\n",
       "      <td>0</td>\n",
       "      <td>0</td>\n",
       "      <td>0</td>\n",
       "      <td>0</td>\n",
       "      <td>0</td>\n",
       "      <td>0</td>\n",
       "      <td>0</td>\n",
       "      <td>0</td>\n",
       "      <td>...</td>\n",
       "      <td>0</td>\n",
       "      <td>0</td>\n",
       "      <td>0</td>\n",
       "      <td>0</td>\n",
       "      <td>0</td>\n",
       "      <td>0</td>\n",
       "      <td>0</td>\n",
       "      <td>0</td>\n",
       "      <td>0</td>\n",
       "      <td>0</td>\n",
       "    </tr>\n",
       "    <tr>\n",
       "      <th>4</th>\n",
       "      <td>17</td>\n",
       "      <td>0</td>\n",
       "      <td>0</td>\n",
       "      <td>0</td>\n",
       "      <td>0</td>\n",
       "      <td>0</td>\n",
       "      <td>0</td>\n",
       "      <td>0</td>\n",
       "      <td>0</td>\n",
       "      <td>0</td>\n",
       "      <td>...</td>\n",
       "      <td>0</td>\n",
       "      <td>0</td>\n",
       "      <td>0</td>\n",
       "      <td>0</td>\n",
       "      <td>0</td>\n",
       "      <td>0</td>\n",
       "      <td>0</td>\n",
       "      <td>0</td>\n",
       "      <td>0</td>\n",
       "      <td>0</td>\n",
       "    </tr>\n",
       "    <tr>\n",
       "      <th>...</th>\n",
       "      <td>...</td>\n",
       "      <td>...</td>\n",
       "      <td>...</td>\n",
       "      <td>...</td>\n",
       "      <td>...</td>\n",
       "      <td>...</td>\n",
       "      <td>...</td>\n",
       "      <td>...</td>\n",
       "      <td>...</td>\n",
       "      <td>...</td>\n",
       "      <td>...</td>\n",
       "      <td>...</td>\n",
       "      <td>...</td>\n",
       "      <td>...</td>\n",
       "      <td>...</td>\n",
       "      <td>...</td>\n",
       "      <td>...</td>\n",
       "      <td>...</td>\n",
       "      <td>...</td>\n",
       "      <td>...</td>\n",
       "      <td>...</td>\n",
       "    </tr>\n",
       "    <tr>\n",
       "      <th>88794</th>\n",
       "      <td>1</td>\n",
       "      <td>0</td>\n",
       "      <td>0</td>\n",
       "      <td>0</td>\n",
       "      <td>0</td>\n",
       "      <td>0</td>\n",
       "      <td>0</td>\n",
       "      <td>0</td>\n",
       "      <td>0</td>\n",
       "      <td>0</td>\n",
       "      <td>...</td>\n",
       "      <td>0</td>\n",
       "      <td>0</td>\n",
       "      <td>0</td>\n",
       "      <td>0</td>\n",
       "      <td>0</td>\n",
       "      <td>0</td>\n",
       "      <td>0</td>\n",
       "      <td>0</td>\n",
       "      <td>0</td>\n",
       "      <td>0</td>\n",
       "    </tr>\n",
       "    <tr>\n",
       "      <th>88795</th>\n",
       "      <td>21</td>\n",
       "      <td>0</td>\n",
       "      <td>0</td>\n",
       "      <td>0</td>\n",
       "      <td>0</td>\n",
       "      <td>0</td>\n",
       "      <td>0</td>\n",
       "      <td>0</td>\n",
       "      <td>0</td>\n",
       "      <td>0</td>\n",
       "      <td>...</td>\n",
       "      <td>0</td>\n",
       "      <td>0</td>\n",
       "      <td>0</td>\n",
       "      <td>0</td>\n",
       "      <td>0</td>\n",
       "      <td>0</td>\n",
       "      <td>0</td>\n",
       "      <td>0</td>\n",
       "      <td>0</td>\n",
       "      <td>0</td>\n",
       "    </tr>\n",
       "    <tr>\n",
       "      <th>88796</th>\n",
       "      <td>1</td>\n",
       "      <td>0</td>\n",
       "      <td>0</td>\n",
       "      <td>0</td>\n",
       "      <td>0</td>\n",
       "      <td>0</td>\n",
       "      <td>0</td>\n",
       "      <td>0</td>\n",
       "      <td>0</td>\n",
       "      <td>0</td>\n",
       "      <td>...</td>\n",
       "      <td>0</td>\n",
       "      <td>0</td>\n",
       "      <td>0</td>\n",
       "      <td>0</td>\n",
       "      <td>0</td>\n",
       "      <td>0</td>\n",
       "      <td>0</td>\n",
       "      <td>0</td>\n",
       "      <td>0</td>\n",
       "      <td>0</td>\n",
       "    </tr>\n",
       "    <tr>\n",
       "      <th>88797</th>\n",
       "      <td>23</td>\n",
       "      <td>0</td>\n",
       "      <td>0</td>\n",
       "      <td>0</td>\n",
       "      <td>0</td>\n",
       "      <td>0</td>\n",
       "      <td>0</td>\n",
       "      <td>0</td>\n",
       "      <td>0</td>\n",
       "      <td>0</td>\n",
       "      <td>...</td>\n",
       "      <td>0</td>\n",
       "      <td>0</td>\n",
       "      <td>0</td>\n",
       "      <td>0</td>\n",
       "      <td>0</td>\n",
       "      <td>0</td>\n",
       "      <td>0</td>\n",
       "      <td>0</td>\n",
       "      <td>0</td>\n",
       "      <td>0</td>\n",
       "    </tr>\n",
       "    <tr>\n",
       "      <th>88798</th>\n",
       "      <td>12</td>\n",
       "      <td>0</td>\n",
       "      <td>0</td>\n",
       "      <td>0</td>\n",
       "      <td>0</td>\n",
       "      <td>0</td>\n",
       "      <td>0</td>\n",
       "      <td>0</td>\n",
       "      <td>0</td>\n",
       "      <td>0</td>\n",
       "      <td>...</td>\n",
       "      <td>0</td>\n",
       "      <td>0</td>\n",
       "      <td>0</td>\n",
       "      <td>0</td>\n",
       "      <td>0</td>\n",
       "      <td>0</td>\n",
       "      <td>0</td>\n",
       "      <td>0</td>\n",
       "      <td>0</td>\n",
       "      <td>0</td>\n",
       "    </tr>\n",
       "  </tbody>\n",
       "</table>\n",
       "<p>88799 rows × 785 columns</p>\n",
       "</div>"
      ],
      "text/plain": [
       "       23  0  0.1  0.2  0.3  0.4  0.5  0.6  0.7  0.8  ...  0.406  0.407  \\\n",
       "0       7  0    0    0    0    0    0    0    0    0  ...      0      0   \n",
       "1      16  0    0    0    0    0    0    0    0    0  ...      0      0   \n",
       "2      15  0    0    0    0    0    0    0    0    0  ...      0      0   \n",
       "3      23  0    0    0    0    0    0    0    0    0  ...      0      0   \n",
       "4      17  0    0    0    0    0    0    0    0    0  ...      0      0   \n",
       "...    .. ..  ...  ...  ...  ...  ...  ...  ...  ...  ...    ...    ...   \n",
       "88794   1  0    0    0    0    0    0    0    0    0  ...      0      0   \n",
       "88795  21  0    0    0    0    0    0    0    0    0  ...      0      0   \n",
       "88796   1  0    0    0    0    0    0    0    0    0  ...      0      0   \n",
       "88797  23  0    0    0    0    0    0    0    0    0  ...      0      0   \n",
       "88798  12  0    0    0    0    0    0    0    0    0  ...      0      0   \n",
       "\n",
       "       0.408  0.409  0.410  0.411  0.412  0.413  0.414  0.415  \n",
       "0          0      0      0      0      0      0      0      0  \n",
       "1          0      0      0      0      0      0      0      0  \n",
       "2          0      0      0      0      0      0      0      0  \n",
       "3          0      0      0      0      0      0      0      0  \n",
       "4          0      0      0      0      0      0      0      0  \n",
       "...      ...    ...    ...    ...    ...    ...    ...    ...  \n",
       "88794      0      0      0      0      0      0      0      0  \n",
       "88795      0      0      0      0      0      0      0      0  \n",
       "88796      0      0      0      0      0      0      0      0  \n",
       "88797      0      0      0      0      0      0      0      0  \n",
       "88798      0      0      0      0      0      0      0      0  \n",
       "\n",
       "[88799 rows x 785 columns]"
      ]
     },
     "execution_count": 5,
     "metadata": {},
     "output_type": "execute_result"
    }
   ],
   "source": [
    "train_df"
   ]
  },
  {
   "cell_type": "markdown",
   "id": "36affb09-1eea-410d-a7e3-9e74de80ca1b",
   "metadata": {},
   "source": [
    "## Dividing 500 datasets per letter"
   ]
  },
  {
   "cell_type": "code",
   "execution_count": 6,
   "id": "53145fc7-52d5-4ada-936b-77ebaaa02c3f",
   "metadata": {},
   "outputs": [],
   "source": [
    "#3 membagi sample per letter sebanyak 500, sehingga total ada 13K sample dari 88.8k sample\n",
    "\n",
    "# format df.iloc[baris, kolom]\n",
    "# simpan list kecil untuk tiap label\n",
    "samples_per_class = 500\n",
    "sampled_df = pd.DataFrame()\n",
    "\n",
    "for label in range(1, 27):  # 1=A, 2=B, ..., 26=Z\n",
    "    subset = train_df[train_df.iloc[:,0] == label]\n",
    "    sampled = subset.sample(n=samples_per_class, random_state=42)\n",
    "    sampled_df = pd.concat([sampled_df, sampled])"
   ]
  },
  {
   "cell_type": "code",
   "execution_count": 7,
   "id": "c958e311-4882-4e45-85f4-aa79d1d68950",
   "metadata": {},
   "outputs": [
    {
     "name": "stdout",
     "output_type": "stream",
     "text": [
      "(13000, 785)\n"
     ]
    }
   ],
   "source": [
    "# cek\n",
    "print(sampled_df.shape)  # harus (13000, 785)"
   ]
  },
  {
   "cell_type": "code",
   "execution_count": 8,
   "id": "29a1eebb-6277-4847-9d35-500d2e5cbc3c",
   "metadata": {},
   "outputs": [
    {
     "data": {
      "text/plain": [
       "13000"
      ]
     },
     "execution_count": 8,
     "metadata": {},
     "output_type": "execute_result"
    }
   ],
   "source": [
    "sampled_df.shape[0]"
   ]
  },
  {
   "cell_type": "code",
   "execution_count": 9,
   "id": "25bfb879-46e7-4c81-b7b5-0008e5c75005",
   "metadata": {},
   "outputs": [],
   "source": [
    "#4 Ambil labels & images dari 13K sampel hasil sampling\n",
    "labels_sampled = sampled_df.iloc[:, 0].values\n",
    "images_sampled = sampled_df.iloc[:, 1:].values"
   ]
  },
  {
   "cell_type": "code",
   "execution_count": 10,
   "id": "48ae5d9a-dbcf-4257-b470-0a655020a12a",
   "metadata": {},
   "outputs": [
    {
     "data": {
      "text/plain": [
       "(13000,)"
      ]
     },
     "execution_count": 10,
     "metadata": {},
     "output_type": "execute_result"
    }
   ],
   "source": [
    "labels_sampled.shape"
   ]
  },
  {
   "cell_type": "code",
   "execution_count": 11,
   "id": "8735b746-a4c9-45fa-bc5e-6e2a7bfae88c",
   "metadata": {},
   "outputs": [
    {
     "data": {
      "text/plain": [
       "(13000, 784)"
      ]
     },
     "execution_count": 11,
     "metadata": {},
     "output_type": "execute_result"
    }
   ],
   "source": [
    "images_sampled.shape"
   ]
  },
  {
   "cell_type": "markdown",
   "id": "3da73f75-399a-483d-bbf6-ae0dd1137ecb",
   "metadata": {},
   "source": [
    "## 3. HOG Feature Extraction"
   ]
  },
  {
   "cell_type": "code",
   "execution_count": 12,
   "id": "ac532df0-d85d-4cd3-9abc-aa884795728e",
   "metadata": {},
   "outputs": [],
   "source": [
    "#5 Ekstrak HOG feature dari 13k data yang udah kita ambil tadi\n",
    "\n",
    "hog_features = []\n",
    "\n",
    "for i in range(len(images_sampled)):\n",
    "    img = images_sampled[i].reshape(28,28)  # reshape 1D → 2D per gambar\n",
    "    feature = hog(img, orientations=9, pixels_per_cell=(8,8),\n",
    "                  cells_per_block=(2,2), block_norm='L2-Hys')\n",
    "    hog_features.append(feature)\n",
    "\n",
    "hog_features = np.array(hog_features)"
   ]
  },
  {
   "cell_type": "code",
   "execution_count": 13,
   "id": "de0f883f-4591-473d-b394-1436b6387dd6",
   "metadata": {},
   "outputs": [
    {
     "name": "stdout",
     "output_type": "stream",
     "text": [
      "(13000, 144)\n"
     ]
    }
   ],
   "source": [
    "print(hog_features.shape)"
   ]
  },
  {
   "cell_type": "code",
   "execution_count": 14,
   "id": "4e5afc2c-376d-451b-9ff5-218e8602b24b",
   "metadata": {},
   "outputs": [],
   "source": [
    "# Rescale hog feature\n",
    "\n",
    "from sklearn.preprocessing import StandardScaler\n",
    "# === RESCALE FITUR ===\n",
    "scaler = StandardScaler()\n",
    "X = scaler.fit_transform(hog_features)\n",
    "y = labels_sampled"
   ]
  },
  {
   "cell_type": "markdown",
   "id": "709b57a5-08f0-4841-b12e-e1bb62be2ff7",
   "metadata": {},
   "source": [
    "## 4. SVM Classifier"
   ]
  },
  {
   "cell_type": "code",
   "execution_count": 34,
   "id": "12cbb693-56c2-4db2-8f9a-98df1bc4617c",
   "metadata": {},
   "outputs": [],
   "source": [
    "#6 Mempersiapkan data untuk SVM kernel RBF\n",
    "\n",
    "X = hog_features         # shape: (13000, 144)\n",
    "y = labels_sampled       # shape: (13000,)\n",
    "\n",
    "svm_clf = SVC(kernel='rbf', C=1.0, gamma='scale', random_state=42)"
   ]
  },
  {
   "cell_type": "markdown",
   "id": "e6d1ad55-45e9-491c-a351-6018e54acce2",
   "metadata": {},
   "source": [
    "## 5. LOOCV Evaluation"
   ]
  },
  {
   "cell_type": "code",
   "execution_count": 32,
   "id": "a58c4e0a-256f-4ea0-8db8-5c7a7139d34d",
   "metadata": {},
   "outputs": [],
   "source": [
    "# setting batch\n",
    "batch_size = 100\n",
    "n_samples = X.shape[0]\n",
    "save_file = \"y_results_partial_RBF.csv\""
   ]
  },
  {
   "cell_type": "code",
   "execution_count": 17,
   "id": "d3ca84d4-2576-410d-a743-688b391783de",
   "metadata": {},
   "outputs": [
    {
     "name": "stdout",
     "output_type": "stream",
     "text": [
      "Resuming from sample index 1600\n"
     ]
    }
   ],
   "source": [
    "# resume checkpoint jika ada batch\n",
    "try:\n",
    "    df = pd.read_csv(save_file)\n",
    "    start_index = len(df)  # mulai dari baris berikutnya\n",
    "    y_true_all = df[\"y_true\"].tolist()\n",
    "    y_pred_all = df[\"y_pred\"].tolist()\n",
    "    print(f\"Resuming from sample index {start_index}\")\n",
    "except FileNotFoundError:\n",
    "    start_index = 0\n",
    "    y_true_all = []\n",
    "    y_pred_all = []\n",
    "    print(\"Starting from scratch\")"
   ]
  },
  {
   "cell_type": "code",
   "execution_count": 18,
   "id": "310678da-428f-4635-b6fa-8fdcc3f40479",
   "metadata": {},
   "outputs": [],
   "source": [
    "from tqdm import tqdm"
   ]
  },
  {
   "cell_type": "code",
   "execution_count": 19,
   "id": "321a7eee-51ae-4f6a-8435-ae3f8ef19684",
   "metadata": {},
   "outputs": [
    {
     "name": "stderr",
     "output_type": "stream",
     "text": [
      "LOOCV Progress: 100%|██████████████████████████████████████████████████████████| 13000/13000 [6:51:44<00:00,  2.17s/it]\n"
     ]
    }
   ],
   "source": [
    "cv = LeaveOneOut()\n",
    "splits = list(cv.split(X))  # buat index dulu biar bisa resume\n",
    "\n",
    "for i in tqdm(range(start_index, len(splits)), total=len(splits), initial=start_index, desc=\"LOOCV Progress\"):\n",
    "    train_ix, test_ix = splits[i]\n",
    "    X_train, X_test = X[train_ix, :], X[test_ix, :]\n",
    "    y_train, y_test = y[train_ix], y[test_ix]\n",
    "\n",
    "    svm_clf.fit(X_train, y_train)\n",
    "    y_pred = svm_clf.predict(X_test)\n",
    "\n",
    "    y_true_all.append(y_test[0])\n",
    "    y_pred_all.append(y_pred[0])\n",
    "\n",
    "    # checkpoint tiap 100 iterasi\n",
    "    if (i+1) % 100 == 0:\n",
    "        pd.DataFrame({\"y_true\": y_true_all, \"y_pred\": y_pred_all}).to_csv(save_file, index=False)"
   ]
  },
  {
   "cell_type": "code",
   "execution_count": 20,
   "id": "cd79513f-b544-40eb-affe-ac51617875a8",
   "metadata": {},
   "outputs": [],
   "source": [
    "# mengambil data y hasil LOOCV tadi\n",
    "\n",
    "y_true = y_true_all\n",
    "y_pred = y_pred_all"
   ]
  },
  {
   "cell_type": "markdown",
   "id": "7f90512c-6f03-458f-8078-c0c95440c472",
   "metadata": {},
   "source": [
    "## Confusion Matrix"
   ]
  },
  {
   "cell_type": "code",
   "execution_count": 21,
   "id": "5bc98ceb-b9a3-4ed4-8555-aac08e64cb4b",
   "metadata": {},
   "outputs": [],
   "source": [
    "#8 Menampilkan Confusion Matix, ACC, PREC, F1\n",
    "conf_matrix = confusion_matrix(y_true, y_pred)"
   ]
  },
  {
   "cell_type": "code",
   "execution_count": 22,
   "id": "d383fa62-d409-4fbc-98f5-f2e77bbf0589",
   "metadata": {},
   "outputs": [
    {
     "data": {
      "text/plain": [
       "array([[412,   2,   2,   3,   3,   0,   8,   6,   1,   1,   0,   0,   4,\n",
       "         10,   7,   0,  28,   2,   0,   3,   1,   0,   2,   0,   0,   5],\n",
       "       [ 13, 414,   1,   2,   3,   1,   4,  36,   2,   0,   2,   4,   1,\n",
       "          0,   2,   0,   4,   6,   3,   0,   0,   0,   0,   0,   0,   2],\n",
       "       [  3,   0, 429,   0,  31,   1,  14,   0,   2,   0,   0,   3,   0,\n",
       "          1,   9,   1,   2,   2,   2,   0,   0,   0,   0,   0,   0,   0],\n",
       "       [  5,   8,   0, 438,   0,   0,   0,   3,   5,  12,   0,   1,   0,\n",
       "          4,  17,   2,   0,   0,   0,   3,   0,   0,   0,   0,   0,   2],\n",
       "       [  5,   4,  26,   0, 427,  20,   7,   0,   1,   0,   0,   0,   0,\n",
       "          0,   3,   0,   0,   3,   2,   0,   0,   0,   0,   0,   0,   2],\n",
       "       [  2,   1,   4,   0,   5, 443,   4,   1,   1,   1,   1,   2,   0,\n",
       "          0,   0,   7,   2,   3,   4,  17,   0,   0,   0,   0,   0,   2],\n",
       "       [ 12,  11,  17,   1,   6,   3, 340,   1,   3,   2,   0,   0,   0,\n",
       "          2,   1,   0,  79,   3,   8,   3,   0,   1,   0,   0,   5,   2],\n",
       "       [  8,  25,   0,   2,   1,   1,   0, 424,   2,   0,   0,  11,   3,\n",
       "         12,   0,   0,   1,   0,   0,   5,   1,   0,   1,   0,   3,   0],\n",
       "       [  1,   0,   0,   1,   1,   3,   0,   1, 343,   8,   0, 126,   0,\n",
       "          0,   2,   2,   2,   2,   0,   4,   0,   0,   0,   0,   1,   3],\n",
       "       [  0,   3,   0,   8,   0,   1,   4,   0,  25, 431,   0,   4,   1,\n",
       "          1,   0,   0,   1,   1,   7,   7,   1,   2,   0,   0,   3,   0],\n",
       "       [  0,   8,   2,   1,   0,   0,   0,   7,   0,   0, 457,   4,   3,\n",
       "          1,   0,   0,   0,   5,   0,   0,   3,   2,   1,   5,   1,   0],\n",
       "       [  1,   1,   6,   0,   0,   0,   1,   2, 105,   2,   0, 380,   0,\n",
       "          0,   0,   0,   0,   0,   0,   0,   0,   1,   0,   0,   1,   0],\n",
       "       [  6,   0,   0,   0,   0,   0,   0,   5,   0,   0,   1,   0, 446,\n",
       "         38,   0,   0,   0,   0,   0,   0,   3,   0,   1,   0,   0,   0],\n",
       "       [  9,   1,   1,   2,   0,   0,   0,   9,   0,   0,   0,   0,  24,\n",
       "        437,   0,   0,   3,   2,   0,   1,   0,   1,   7,   2,   0,   1],\n",
       "       [  3,   2,   0,   5,   0,   0,   0,   2,   1,   0,   0,   0,   0,\n",
       "          1, 478,   1,   6,   0,   0,   0,   0,   1,   0,   0,   0,   0],\n",
       "       [  2,   1,   2,   8,   3,   7,   0,   1,   3,   0,   0,   1,   0,\n",
       "          0,   5, 455,   1,   5,   0,   2,   0,   0,   0,   0,   3,   1],\n",
       "       [ 30,   6,   0,   0,   2,   0,  45,   0,   6,   0,   0,   1,   0,\n",
       "          3,   9,   5, 386,   1,   1,   3,   0,   0,   0,   0,   2,   0],\n",
       "       [  4,   4,   6,   0,   7,   6,   0,   3,   0,   1,   6,   0,   0,\n",
       "          4,   0,   8,   3, 435,   0,   7,   0,   1,   0,   1,   4,   0],\n",
       "       [  1,   4,   0,   0,   1,   7,   9,   0,   0,   8,   0,   0,   0,\n",
       "          0,   0,   0,   0,   0, 470,   0,   0,   0,   0,   0,   0,   0],\n",
       "       [  1,   1,   0,   5,   3,  18,   3,   1,   4,   0,   1,   4,   0,\n",
       "          1,   0,   1,   0,   3,   0, 447,   0,   0,   2,   1,   1,   3],\n",
       "       [  1,   0,   0,   0,   1,   0,   0,   0,   1,   0,   1,   1,   0,\n",
       "          0,   0,   0,   1,   0,   1,   0, 459,  15,  18,   0,   0,   1],\n",
       "       [  0,   0,   0,   1,   0,   0,   1,   0,   1,   2,   0,   0,   2,\n",
       "          1,   0,   2,   0,   7,   0,   1,  23, 447,   2,   0,  10,   0],\n",
       "       [  1,   0,   0,   2,   0,   0,   0,   0,   0,   0,   0,   1,   4,\n",
       "         20,   1,   0,   0,   0,   1,   0,  19,   6, 444,   0,   0,   1],\n",
       "       [  3,   1,   0,   0,   0,   0,   1,   0,   1,   1,   5,   0,   1,\n",
       "          2,   0,   1,   0,   0,   0,   5,   0,   1,   0, 468,   7,   3],\n",
       "       [  2,   0,   0,   0,   0,   0,   5,   2,   1,   1,   3,   1,   1,\n",
       "          0,   0,   1,   5,   4,   0,   2,   4,  22,   0,   2, 444,   0],\n",
       "       [  4,   2,   1,   2,   4,   0,   3,   0,   0,   0,   0,   0,   0,\n",
       "          0,   0,   0,   1,   1,   0,   1,   0,   0,   0,   2,   0, 479]])"
      ]
     },
     "execution_count": 22,
     "metadata": {},
     "output_type": "execute_result"
    }
   ],
   "source": [
    "conf_matrix"
   ]
  },
  {
   "cell_type": "code",
   "execution_count": 23,
   "id": "0b64c13c-8658-47e1-8eed-585bc77e085d",
   "metadata": {},
   "outputs": [],
   "source": [
    "from mlxtend.plotting import plot_confusion_matrix"
   ]
  },
  {
   "cell_type": "code",
   "execution_count": 24,
   "id": "577b38a8-3268-463c-809c-c4651179c379",
   "metadata": {},
   "outputs": [],
   "source": [
    "class_names = [chr(i) for i in range(65, 91)]  # A-Z"
   ]
  },
  {
   "cell_type": "code",
   "execution_count": 25,
   "id": "5b611a3a-2634-418e-b6bf-8f591991becf",
   "metadata": {},
   "outputs": [
    {
     "data": {
      "image/png": "[encoded data removed]",
      "text/plain": [
       "<Figure size 1200x1000 with 1 Axes>"
      ]
     },
     "metadata": {},
     "output_type": "display_data"
    }
   ],
   "source": [
    "fig, ax = plot_confusion_matrix(conf_mat=conf_matrix, class_names=class_names, figsize=(12,10))\n",
    "\n",
    "plt.title(\"Normalized Confusion Matrix - LOOCV\")\n",
    "plt.show()"
   ]
  },
  {
   "cell_type": "markdown",
   "id": "634213c2-aa0f-4bba-882c-736441e3ec3c",
   "metadata": {},
   "source": [
    "## Accuracy"
   ]
  },
  {
   "cell_type": "code",
   "execution_count": 26,
   "id": "d9022082-1c82-4458-8c81-3f6e9c48f76e",
   "metadata": {},
   "outputs": [],
   "source": [
    "#9 Menampilkan Accuracy\n",
    "accuracy = accuracy_score(y_true, y_pred)"
   ]
  },
  {
   "cell_type": "code",
   "execution_count": 27,
   "id": "69c78d1d-5439-44d2-a1cb-8ed054d4157e",
   "metadata": {},
   "outputs": [
    {
     "data": {
      "text/plain": [
       "0.8640769230769231"
      ]
     },
     "execution_count": 27,
     "metadata": {},
     "output_type": "execute_result"
    }
   ],
   "source": [
    "accuracy"
   ]
  },
  {
   "cell_type": "markdown",
   "id": "498b4fdd-36d9-411c-81d6-88ac779143c2",
   "metadata": {},
   "source": [
    "## Precision"
   ]
  },
  {
   "cell_type": "code",
   "execution_count": 28,
   "id": "27bd69fe-2170-4844-aa9d-66136f7df4e3",
   "metadata": {},
   "outputs": [],
   "source": [
    "#10 Menampilkan Presisi\n",
    "precision = precision_score(y_true, y_pred, average= 'macro')"
   ]
  },
  {
   "cell_type": "code",
   "execution_count": 29,
   "id": "024f3e19-9ce9-43ce-9808-3007a7287426",
   "metadata": {},
   "outputs": [
    {
     "data": {
      "text/plain": [
       "0.8656012040507728"
      ]
     },
     "execution_count": 29,
     "metadata": {},
     "output_type": "execute_result"
    }
   ],
   "source": [
    "precision"
   ]
  },
  {
   "cell_type": "markdown",
   "id": "8fd2fb6a-fb83-4c04-a247-0f94a59a1b02",
   "metadata": {},
   "source": [
    "## F1 Score"
   ]
  },
  {
   "cell_type": "code",
   "execution_count": 30,
   "id": "4d5adb5c-0dd2-4bab-b1a8-d55c1e353394",
   "metadata": {},
   "outputs": [],
   "source": [
    "#11 Menampilkan F1 Score\n",
    "f1 = f1_score(y_true, y_pred, average='macro')"
   ]
  },
  {
   "cell_type": "code",
   "execution_count": 31,
   "id": "80329d3b-d26a-4be5-8b98-7d5d1d39a373",
   "metadata": {},
   "outputs": [
    {
     "data": {
      "text/plain": [
       "0.864443020347927"
      ]
     },
     "execution_count": 31,
     "metadata": {},
     "output_type": "execute_result"
    }
   ],
   "source": [
    "f1"
   ]
  }
 ],
 "metadata": {
  "kernelspec": {
   "display_name": "Python 3 (ipykernel)",
   "language": "python",
   "name": "python3"
  },
  "language_info": {
   "codemirror_mode": {
    "name": "ipython",
    "version": 3
   },
   "file_extension": ".py",
   "mimetype": "text/x-python",
   "name": "python",
   "nbconvert_exporter": "python",
   "pygments_lexer": "ipython3",
   "version": "3.13.5"
  }
 },
 "nbformat": 4,
 "nbformat_minor": 5
}
